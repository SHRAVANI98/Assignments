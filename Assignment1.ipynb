{
 "cells": [
  {
   "cell_type": "markdown",
   "metadata": {},
   "source": [
    "### 1. Numbers which are divisible by 7 but are not a multiple of 5 between 2000 and 3200 inclusive"
   ]
  },
  {
   "cell_type": "code",
   "execution_count": 1,
   "metadata": {},
   "outputs": [],
   "source": [
    "result=[]\n",
    "for number in range(2000,3201):\n",
    "    if(number%7==0 and number%5!=0): \n",
    "        result.append(number)\n",
    "print(result,sep=\" , \")"
   ]
  },
  {
   "cell_type": "markdown",
   "metadata": {},
   "source": [
    "### 2. Printing first name and last name in reverse order"
   ]
  },
  {
   "cell_type": "code",
   "execution_count": 2,
   "metadata": {},
   "outputs": [
    {
     "name": "stdout",
     "output_type": "stream",
     "text": [
      "Shravani\n",
      "Yeshala\n",
      "inavarhS alahseY"
     ]
    }
   ],
   "source": [
    "firstName=input()\n",
    "secondName=input()\n",
    "print(firstName[::-1],secondName[::-1], end=\"\")"
   ]
  },
  {
   "cell_type": "markdown",
   "metadata": {},
   "source": [
    "### 3. Volume of Sphere with diameter 12 cm"
   ]
  },
  {
   "cell_type": "code",
   "execution_count": 3,
   "metadata": {},
   "outputs": [
    {
     "name": "stdout",
     "output_type": "stream",
     "text": [
      "904.32\n"
     ]
    }
   ],
   "source": [
    "Pi=3.14\n",
    "diameter=12\n",
    "radius=diameter/2\n",
    "VolumeOfSphere=(4/3*Pi*(radius**3))\n",
    "print(\"{:.2f}\".format(VolumeOfSphere))"
   ]
  },
  {
   "cell_type": "code",
   "execution_count": 4,
   "metadata": {},
   "outputs": [
    {
     "data": {
      "text/plain": [
       "904"
      ]
     },
     "execution_count": 4,
     "metadata": {},
     "output_type": "execute_result"
    }
   ],
   "source": [
    "round(VolumeOfSphere)"
   ]
  },
  {
   "cell_type": "code",
   "execution_count": null,
   "metadata": {},
   "outputs": [],
   "source": []
  }
 ],
 "metadata": {
  "kernelspec": {
   "display_name": "Python 3",
   "language": "python",
   "name": "python3"
  },
  "language_info": {
   "codemirror_mode": {
    "name": "ipython",
    "version": 3
   },
   "file_extension": ".py",
   "mimetype": "text/x-python",
   "name": "python",
   "nbconvert_exporter": "python",
   "pygments_lexer": "ipython3",
   "version": "3.7.7"
  }
 },
 "nbformat": 4,
 "nbformat_minor": 4
}
